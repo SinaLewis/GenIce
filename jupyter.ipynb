{
  "cells": [
    {
      "cell_type": "markdown",
      "metadata": {
        "id": "view-in-github",
        "colab_type": "text"
      },
      "source": [
        "<a href=\"https://colab.research.google.com/github/SinaLewis/GenIce/blob/main/jupyter.ipynb\" target=\"_parent\"><img src=\"https://colab.research.google.com/assets/colab-badge.svg\" alt=\"Open In Colab\"/></a>"
      ]
    },
    {
      "cell_type": "markdown",
      "metadata": {
        "id": "HNwYAWaR_QFK"
      },
      "source": [
        "# Installation\n",
        "\n",
        "On Google Colaboratory, you must install GenIce2 and extra plugins by yourself.\n"
      ]
    },
    {
      "cell_type": "code",
      "execution_count": 17,
      "metadata": {
        "id": "gFymXYXdA1_a",
        "colab": {
          "base_uri": "https://localhost:8080/"
        },
        "outputId": "2d637ffb-1081-4688-fb7a-ab1bd23d1460"
      },
      "outputs": [
        {
          "output_type": "stream",
          "name": "stdout",
          "text": [
            "Requirement already satisfied: genice2 in /usr/local/lib/python3.11/dist-packages (2.2.12.4)\n",
            "Requirement already satisfied: genice2-svg in /usr/local/lib/python3.11/dist-packages (2.2)\n",
            "Requirement already satisfied: genice2-cage in /usr/local/lib/python3.11/dist-packages (2.5.2)\n",
            "Requirement already satisfied: cycless>=0.4.2 in /usr/local/lib/python3.11/dist-packages (from genice2) (0.6.3)\n",
            "Requirement already satisfied: deprecation<3.0.0,>=2.1.0 in /usr/local/lib/python3.11/dist-packages (from genice2) (2.1.0)\n",
            "Requirement already satisfied: genice-core>=1.1 in /usr/local/lib/python3.11/dist-packages (from genice2) (1.1)\n",
            "Requirement already satisfied: graphstat>=0.3.3 in /usr/local/lib/python3.11/dist-packages (from genice2) (0.3.3)\n",
            "Requirement already satisfied: networkx>=2.0.dev20160901144005 in /usr/local/lib/python3.11/dist-packages (from genice2) (3.5)\n",
            "Requirement already satisfied: numpy<3.0,>=2.0 in /usr/local/lib/python3.11/dist-packages (from genice2) (2.0.2)\n",
            "Requirement already satisfied: openpyscad>=0.5.0 in /usr/local/lib/python3.11/dist-packages (from genice2) (0.5.0)\n",
            "Requirement already satisfied: pairlist>=0.6 in /usr/local/lib/python3.11/dist-packages (from genice2) (0.6)\n",
            "Requirement already satisfied: yaplotlib>=0.1.2 in /usr/local/lib/python3.11/dist-packages (from genice2) (0.1.3)\n",
            "Requirement already satisfied: svgwrite in /usr/local/lib/python3.11/dist-packages (from genice2-svg) (1.4.3)\n",
            "Requirement already satisfied: pillow in /usr/local/lib/python3.11/dist-packages (from genice2-svg) (11.2.1)\n",
            "Requirement already satisfied: click>=8 in /usr/local/lib/python3.11/dist-packages (from cycless>=0.4.2->genice2) (8.2.1)\n",
            "Requirement already satisfied: methodtools<0.5.0,>=0.4.7 in /usr/local/lib/python3.11/dist-packages (from cycless>=0.4.2->genice2) (0.4.7)\n",
            "Requirement already satisfied: packaging in /usr/local/lib/python3.11/dist-packages (from deprecation<3.0.0,>=2.1.0->genice2) (24.2)\n",
            "Requirement already satisfied: six<2.0.0,>=1.14.0 in /usr/local/lib/python3.11/dist-packages (from openpyscad>=0.5.0->genice2) (1.17.0)\n",
            "Requirement already satisfied: wirerope>=0.4.7 in /usr/local/lib/python3.11/dist-packages (from methodtools<0.5.0,>=0.4.7->cycless>=0.4.2->genice2) (1.0.0)\n"
          ]
        }
      ],
      "source": [
        "# install GenIce2 and extra plugins from PyPI via pip.\n",
        "%pip install genice2 genice2-svg genice2-cage\n"
      ]
    },
    {
      "cell_type": "code",
      "source": [
        "from google.colab import drive\n",
        "drive.mount('/content/drive')"
      ],
      "metadata": {
        "id": "KnbpnFQ8DtiH",
        "outputId": "7ec32461-8c82-4d35-9536-70f1fbb7670c",
        "colab": {
          "base_uri": "https://localhost:8080/"
        }
      },
      "execution_count": 161,
      "outputs": [
        {
          "output_type": "stream",
          "name": "stdout",
          "text": [
            "Drive already mounted at /content/drive; to attempt to forcibly remount, call drive.mount(\"/content/drive\", force_remount=True).\n"
          ]
        }
      ]
    },
    {
      "cell_type": "markdown",
      "metadata": {
        "id": "-pFXcvVJ_QFQ"
      },
      "source": [
        "## Extract POSCAR format from CIF format.\n",
        "\n"
      ]
    },
    {
      "cell_type": "code",
      "execution_count": 160,
      "metadata": {
        "id": "P85n-TcL_QFR"
      },
      "outputs": [],
      "source": [
        "from genice2.genice import GenIce\n",
        "from genice2.plugin import Lattice, Format, Molecule\n",
        "import numpy as np\n",
        "import random\n",
        "\n",
        "iceName = \"Ice Ih\"\n",
        "lattice = Lattice('ice1h')\n",
        "formatter = Format(\"cif\")\n",
        "water = Molecule(\"physical_water\")\n",
        "seeds = [12345,52320,74820]\n",
        "\n",
        "zero=0.0\n",
        "numDec=6\n",
        "\n",
        "for s in seeds:\n",
        "  random.seed(s)\n",
        "  np.random.seed(s)\n",
        "  ice = GenIce(lattice, reshape=[[1,0,0],[0,1,0],[0,0,1]]).generate_ice(formatter, water=water)\n",
        "  a,b,c = ice.splitlines()[2:5]\n",
        "  a=float(a.split(' ')[-1])\n",
        "  b=float(b.split(' ')[-1])\n",
        "  c=float(c.split(' ')[-1])\n",
        "\n",
        "  xyz=[entry[1:5] for entry in [item.split() for item in ice.splitlines()[22:] if item]]\n",
        "  xyzTemp = [atom[1:] for atom in xyz if atom[0]=='O']\n",
        "  numO = len(xyzTemp)\n",
        "  xyz=xyzTemp + [atom[1:] for atom in xyz if atom[0]=='H']\n",
        "\n",
        "  with open(f\"/content/drive/MyDrive/ice_structures/ice-Ih-{s}-{numO}(H2O).vasp\", \"w\") as f:\n",
        "    f.write(f'# {numO}(H2O) - {iceName}, proton disorder seed {s}; original data generated by GenIce. https://github.com/vitroid/GenIce \\n' + \\\n",
        "    f'1.00\\n    {a:.{numDec}f}    {zero:.{numDec}f}    {zero:.{numDec}f}\\n    {zero:.{numDec}f}    {b:.{numDec}f}    {zero:.{numDec}f}\\n' + \\\n",
        "    f'    {zero:.{numDec}f}    {zero:.{numDec}f}    {c:.{numDec}f}\\n' + \\\n",
        "    f'  O    H\\n  {numO}    {2*numO}\\nDirect\\n' + \\\n",
        "    '\\n'.join(['    '.join(atom) for atom in xyz]))"
      ]
    },
    {
      "cell_type": "markdown",
      "metadata": {
        "id": "mI8MvQyc_QFV"
      },
      "source": [
        "## Generate an SVG image\n",
        "\n",
        "Here we are using the Forms syntax of Google Colab to choose the ice type."
      ]
    },
    {
      "cell_type": "code",
      "execution_count": null,
      "metadata": {
        "id": "JujsH423_QFY"
      },
      "outputs": [],
      "source": [
        "from genice2.genice import GenIce\n",
        "from genice2.plugin import Lattice, Format, Molecule\n",
        "\n",
        "ice = \"DDR\"  # @param [\"ice1h\", \"ice2\", \"ice3\", \"DDR\"] {allow-input: true}\n",
        "\n",
        "lattice = Lattice(ice)\n",
        "formatter = Format(\"svg\", shadow=True, rotate=\"y5,x5\")\n",
        "# formatter  = Format(\"twist\", svg=True,rotatex=5,rotatey=5)\n",
        "img = GenIce(lattice, reshape=[[2, 0, 0], [0, 2, 0], [0, 0, 2]]).generate_ice(formatter)\n",
        "\n",
        "from IPython.display import SVG, display\n",
        "\n",
        "display(SVG(img))"
      ]
    },
    {
      "cell_type": "markdown",
      "metadata": {
        "id": "t0Z0QSOK_QFb"
      },
      "source": [
        "## Generate a PNG image\n",
        "\n",
        "PNG renderer is also included in genice_svg package."
      ]
    },
    {
      "cell_type": "code",
      "execution_count": null,
      "metadata": {
        "id": "l0sg81tt_QFc"
      },
      "outputs": [],
      "source": [
        "from genice2.genice import GenIce\n",
        "from genice2.plugin import Lattice, Format, Molecule\n",
        "\n",
        "lattice = Lattice(\"CS2\")\n",
        "formatter = Format(\"png\", shadow=\"#8881\", encode=False, bg=\"#fff\", rotate=\"x5,y5\")\n",
        "img = GenIce(lattice, reshape=[[2, 0, 0], [0, 2, 0], [0, 0, 2]]).generate_ice(formatter)\n",
        "\n",
        "from IPython.display import display\n",
        "\n",
        "display(img)"
      ]
    },
    {
      "cell_type": "markdown",
      "metadata": {
        "id": "Y3CtlAt-_QFe"
      },
      "source": [
        "## Store the image in a file\n",
        "\n",
        "Save it in a PNG file."
      ]
    },
    {
      "cell_type": "code",
      "execution_count": null,
      "metadata": {
        "id": "uv8aW75b_QFf"
      },
      "outputs": [],
      "source": [
        "from genice2.genice import GenIce\n",
        "from genice2.plugin import Lattice, Format, Molecule\n",
        "\n",
        "lattice = Lattice(\"ice3\")\n",
        "formatter = Format(\"png\", shadow=\"#8881\", encode=True, bg=\"#fff\", rotate=\"x5,y5\")\n",
        "img = GenIce(lattice, reshape=[[2, 0, 0], [0, 2, 0], [0, 0, 2]]).generate_ice(formatter)\n",
        "\n",
        "with open(\"ice3.png\", \"wb\") as f:\n",
        "    f.write(img)"
      ]
    },
    {
      "cell_type": "markdown",
      "metadata": {
        "id": "nTt0sIHi_QFi"
      },
      "source": [
        "## Analysis\n",
        "\n",
        "Some statistical analyses are also available."
      ]
    },
    {
      "cell_type": "code",
      "execution_count": null,
      "metadata": {
        "id": "g4dWcvwv_QFj"
      },
      "outputs": [],
      "source": [
        "from genice2.genice import GenIce\n",
        "from genice2.plugin import Lattice, Format, Molecule\n",
        "import numpy as np\n",
        "from matplotlib import pyplot as plt\n",
        "import random\n",
        "\n",
        "lattice = Lattice(\"ice1c\")\n",
        "formatter = Format(\"_KG\")\n",
        "water = Molecule(\"spce\")\n",
        "for seed in range(1000, 1010):\n",
        "    random.seed(seed)\n",
        "    np.random.seed(seed)\n",
        "    result = GenIce(lattice, reshape=[[10, 0, 0], [0, 10, 0], [0, 0, 10]]).generate_ice(\n",
        "        formatter, water=water\n",
        "    )\n",
        "\n",
        "    kg = np.fromstring(result, dtype=float, sep=\" \")\n",
        "    N = kg.shape[0]\n",
        "    kg = kg.reshape([N // 2, 2])\n",
        "    plt.plot(kg[:, 0], kg[:, 1])\n",
        "\n",
        "plt.xlabel(\"r / nm\")\n",
        "plt.ylabel(\"Kirkwood G\")\n",
        "plt.show()"
      ]
    },
    {
      "cell_type": "markdown",
      "metadata": {
        "id": "9-KbKZUg_QFm"
      },
      "source": [
        "## Logging\n",
        "\n",
        "You may want to see the process log."
      ]
    },
    {
      "cell_type": "code",
      "execution_count": null,
      "metadata": {
        "id": "YDzW7USV_QFm"
      },
      "outputs": [],
      "source": [
        "from logging import getLogger, INFO, DEBUG, WARNING\n",
        "\n",
        "logger = getLogger()\n",
        "logger.setLevel(INFO)\n",
        "\n",
        "from genice2.genice import GenIce\n",
        "from genice2.plugin import Lattice, Format, Molecule\n",
        "\n",
        "lattice = Lattice(\"ice1c\")\n",
        "formatter = Format(\"gromacs\")\n",
        "water = Molecule(\"spce\")\n",
        "ice = GenIce(\n",
        "    lattice, reshape=[[16, 0, 0], [0, 16, 0], [0, 0, 16]], signature=\"Jupyter test\"\n",
        ").generate_ice(formatter, water=water)\n",
        "with open(\"ice1c.gro\", \"w\") as f:\n",
        "    f.write(ice)\n",
        "\n",
        "logger.setLevel(WARNING)"
      ]
    },
    {
      "cell_type": "markdown",
      "metadata": {
        "id": "GWN1tTvXDu_-"
      },
      "source": [
        "## Raw data\n",
        "\n",
        "You can access the \"raw\" (internal) data."
      ]
    },
    {
      "cell_type": "code",
      "execution_count": null,
      "metadata": {
        "id": "mpM25WEgDu_-"
      },
      "outputs": [],
      "source": [
        "from genice2.genice import GenIce\n",
        "from genice2.plugin import Lattice, Format, Molecule\n",
        "\n",
        "lattice = Lattice(\"xFAU\", rep=3)\n",
        "formatter = Format(\"raw\", stage=(1,))\n",
        "raw = GenIce(lattice, signature=\"Aeroice 3xFAU\").generate_ice(formatter)\n",
        "\n",
        "raw"
      ]
    },
    {
      "cell_type": "markdown",
      "metadata": {
        "id": "EcA4cvEnDvAB"
      },
      "source": [
        "### Visualization by Plotly\n",
        "\n",
        "Use the raw data to plot by yourself."
      ]
    },
    {
      "cell_type": "code",
      "execution_count": null,
      "metadata": {
        "id": "Red3f1LdDvAB"
      },
      "outputs": [],
      "source": [
        "waters = raw[\"reppositions\"]\n",
        "import plotly.graph_objects as go\n",
        "\n",
        "fig = go.Figure(\n",
        "    data=[\n",
        "        go.Scatter3d(\n",
        "            x=waters[:, 0],\n",
        "            y=waters[:, 1],\n",
        "            z=waters[:, 2],\n",
        "            marker=dict(size=10),\n",
        "            mode=\"markers\",\n",
        "        )\n",
        "    ]\n",
        ")\n",
        "fig.show()"
      ]
    },
    {
      "cell_type": "markdown",
      "metadata": {
        "id": "L2P6aWpku91I"
      },
      "source": [
        "## Integration with py3Dmol.\n",
        "\n",
        "Py3Dmol works on Google Colaboratory."
      ]
    },
    {
      "cell_type": "code",
      "execution_count": null,
      "metadata": {
        "id": "_3GLhHNttlZP"
      },
      "outputs": [],
      "source": [
        "%pip install py3Dmol"
      ]
    },
    {
      "cell_type": "code",
      "execution_count": null,
      "metadata": {
        "id": "bdtB9dUStqAw"
      },
      "outputs": [],
      "source": [
        "from genice2.genice import GenIce\n",
        "from genice2.plugin import Lattice, Format, Molecule\n",
        "\n",
        "lattice = Lattice(\"ice1h_unit\")\n",
        "formatter = Format(\"gromacs\")\n",
        "water = Molecule(\"spce\")\n",
        "ice = GenIce(lattice, reshape=[[4, 0, 0], [0, 4, 0], [0, 0, 4]]).generate_ice(\n",
        "    formatter, water=water\n",
        ")"
      ]
    },
    {
      "cell_type": "code",
      "execution_count": null,
      "metadata": {
        "id": "BxolfqLTt2oO"
      },
      "outputs": [],
      "source": [
        "import py3Dmol\n",
        "\n",
        "view = py3Dmol.view()\n",
        "view.addModel(ice, \"gro\")\n",
        "view.setStyle({\"stick\": {}})\n",
        "view.addUnitCell()\n",
        "view.zoomTo()"
      ]
    },
    {
      "cell_type": "markdown",
      "metadata": {
        "id": "g764Gyfco0jo"
      },
      "source": [
        "## Various file formats using MDAnalysis"
      ]
    },
    {
      "cell_type": "code",
      "execution_count": null,
      "metadata": {
        "id": "PDRm3tgBrO6E"
      },
      "outputs": [],
      "source": [
        "%pip install genice2-mdanalysis\n",
        "exit(0)\n"
      ]
    },
    {
      "cell_type": "code",
      "execution_count": null,
      "metadata": {
        "id": "_hAM4JLxpDTy"
      },
      "outputs": [],
      "source": [
        "from genice2.genice import GenIce\n",
        "from genice2.plugin import Lattice, Format, Molecule\n",
        "\n",
        "lattice = Lattice(\"ice1h_unit\")\n",
        "formatter = Format(\"mdanalysis\")\n",
        "water = Molecule(\"spce\")\n",
        "\n",
        "# MDAnalysis universe\n",
        "universe = GenIce(lattice, reshape=[[4, 0, 0], [0, 4, 0], [0, 0, 4]]).generate_ice(\n",
        "    formatter, water=water\n",
        ")\n",
        "\n",
        "# Save as a .gro file.\n",
        "allatoms = universe.select_atoms(\"all\")\n",
        "allatoms.write(\"1h_unit.pdb\")"
      ]
    },
    {
      "cell_type": "code",
      "execution_count": null,
      "metadata": {
        "id": "H1tNx9pt1OuI"
      },
      "outputs": [],
      "source": []
    }
  ],
  "metadata": {
    "colab": {
      "name": "test.ipynb",
      "provenance": [],
      "include_colab_link": true
    },
    "kernelspec": {
      "display_name": "Python 3",
      "language": "python",
      "name": "python3"
    },
    "language_info": {
      "codemirror_mode": {
        "name": "ipython",
        "version": 3
      },
      "file_extension": ".py",
      "mimetype": "text/x-python",
      "name": "python",
      "nbconvert_exporter": "python",
      "pygments_lexer": "ipython3",
      "version": "3.11.4"
    }
  },
  "nbformat": 4,
  "nbformat_minor": 0
}