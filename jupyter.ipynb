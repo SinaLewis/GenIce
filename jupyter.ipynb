{
  "nbformat": 4,
  "nbformat_minor": 0,
  "metadata": {
    "colab": {
      "name": "test.ipynb",
      "provenance": [],
      "include_colab_link": true
    },
    "kernelspec": {
      "display_name": "Python 3",
      "language": "python",
      "name": "python3"
    },
    "language_info": {
      "codemirror_mode": {
        "name": "ipython",
        "version": 3
      },
      "file_extension": ".py",
      "mimetype": "text/x-python",
      "name": "python",
      "nbconvert_exporter": "python",
      "pygments_lexer": "ipython3",
      "version": "3.9.2"
    }
  },
  "cells": [
    {
      "cell_type": "markdown",
      "metadata": {
        "id": "view-in-github",
        "colab_type": "text"
      },
      "source": [
        "<a href=\"https://colab.research.google.com/github/vitroid/GenIce/blob/main/jupyter.ipynb\" target=\"_parent\"><img src=\"https://colab.research.google.com/assets/colab-badge.svg\" alt=\"Open In Colab\"/></a>"
      ]
    },
    {
      "cell_type": "markdown",
      "metadata": {
        "id": "HNwYAWaR_QFK"
      },
      "source": [
        "# Installation\n",
        "\n",
        "On Google Colaboratory, you must install GenIce2 and extra plugins by yourself.\n"
      ]
    },
    {
      "cell_type": "code",
      "metadata": {
        "id": "gFymXYXdA1_a"
      },
      "source": [
        "# install GenIce2 and extra plugins from PyPI via pip.\n",
        "%pip install genice2 genice2-svg genice2-cage\n",
        "exit(0)\n"
      ],
      "execution_count": null,
      "outputs": []
    },
    {
      "cell_type": "markdown",
      "metadata": {
        "id": "-pFXcvVJ_QFQ"
      },
      "source": [
        "## Output in Gromacs format.\n",
        "\n",
        "A simplest example."
      ]
    },
    {
      "cell_type": "code",
      "metadata": {
        "id": "P85n-TcL_QFR"
      },
      "source": [
        "from genice2.genice import GenIce\n",
        "from genice2.plugin import Lattice, Format, Molecule\n",
        "\n",
        "lattice    = Lattice(\"ice11\")\n",
        "formatter  = Format(\"gromacs\")\n",
        "water      = Molecule(\"spce\")\n",
        "ice = GenIce(lattice).generate_ice(formatter, water=water)\n",
        "print(ice)"
      ],
      "execution_count": null,
      "outputs": []
    },
    {
      "cell_type": "markdown",
      "metadata": {
        "id": "mI8MvQyc_QFV"
      },
      "source": [
        "## Generate an SVG image\n",
        "\n",
        "Here we are using the Forms syntax of Google Colab to choose the ice type."
      ]
    },
    {
      "cell_type": "code",
      "metadata": {
        "id": "JujsH423_QFY"
      },
      "source": [
        "from genice2.genice import GenIce\n",
        "from genice2.plugin import Lattice, Format, Molecule\n",
        "\n",
        "ice = \"engel17\" #@param [\"ice1h\", \"ice2\", \"ice3\", \"engel17\"] {allow-input: true}\n",
        "#@markdown Press *Shift+Enter* to execute.\n",
        "\n",
        "lattice    = Lattice(ice)\n",
        "formatter  = Format(\"svg\", shadow=True,rotate=\"y5,x5\")\n",
        "# formatter  = Format(\"twist\", svg=True,rotatex=5,rotatey=5)\n",
        "img = GenIce(lattice, rep=[2,2,2]).generate_ice(formatter)\n",
        "\n",
        "from IPython.display import SVG, display\n",
        "display(SVG(img))"
      ],
      "execution_count": null,
      "outputs": []
    },
    {
      "cell_type": "markdown",
      "metadata": {
        "id": "t0Z0QSOK_QFb"
      },
      "source": [
        "## Generate a PNG image\n",
        "\n",
        "PNG renderer is also included in genice_svg package."
      ]
    },
    {
      "cell_type": "code",
      "metadata": {
        "id": "l0sg81tt_QFc"
      },
      "source": [
        "from genice2.genice import GenIce\n",
        "from genice2.plugin import Lattice, Format, Molecule\n",
        "\n",
        "lattice    = Lattice(\"CS2\")\n",
        "formatter  = Format(\"png\", shadow=\"#8881\",encode=False,bg=\"#fff\",rotate=\"x5,y5\")\n",
        "img = GenIce(lattice, rep=[2,2,2]).generate_ice(formatter)\n",
        "\n",
        "from IPython.display import display\n",
        "display(img)"
      ],
      "execution_count": null,
      "outputs": []
    },
    {
      "cell_type": "markdown",
      "metadata": {
        "id": "Y3CtlAt-_QFe"
      },
      "source": [
        "## Store the image in a file\n",
        "\n",
        "Save it in a PNG file."
      ]
    },
    {
      "cell_type": "code",
      "metadata": {
        "id": "uv8aW75b_QFf"
      },
      "source": [
        "from genice2.genice import GenIce\n",
        "from genice2.plugin import Lattice, Format, Molecule\n",
        "\n",
        "lattice    = Lattice(\"ice3\")\n",
        "formatter  = Format(\"png\", shadow=\"#8881\",encode=True, bg=\"#fff\",rotate=\"x5,y5\")\n",
        "img = GenIce(lattice, rep=[2,2,2]).generate_ice(formatter)\n",
        "\n",
        "with open(\"ice3.png\", \"wb\") as f:\n",
        "    f.write(img)"
      ],
      "execution_count": null,
      "outputs": []
    },
    {
      "cell_type": "markdown",
      "metadata": {
        "id": "nTt0sIHi_QFi"
      },
      "source": [
        "## Analysis\n",
        "\n",
        "Some statistical analyses are also available."
      ]
    },
    {
      "cell_type": "code",
      "metadata": {
        "id": "g4dWcvwv_QFj"
      },
      "source": [
        "from genice2.genice import GenIce\n",
        "from genice2.plugin import Lattice, Format, Molecule\n",
        "import numpy as np\n",
        "from matplotlib import pyplot as plt\n",
        "import random\n",
        "\n",
        "lattice    = Lattice(\"1c\")\n",
        "formatter  = Format(\"_KG\")\n",
        "water      = Molecule(\"spce\")\n",
        "for seed in range(1000,1010):\n",
        "    random.seed(seed)\n",
        "    np.random.seed(seed)\n",
        "    result = GenIce(lattice, rep=(10,10,10)).generate_ice(formatter, water=water)\n",
        "\n",
        "    kg = np.fromstring(result, dtype=float, sep=\" \")\n",
        "    N = kg.shape[0]\n",
        "    kg = kg.reshape([N//2, 2])\n",
        "    plt.plot(kg[:,0], kg[:,1])\n",
        "\n",
        "plt.xlabel(\"r / nm\")\n",
        "plt.ylabel(\"Kirkwood G\")\n",
        "plt.show()"
      ],
      "execution_count": null,
      "outputs": []
    },
    {
      "cell_type": "markdown",
      "metadata": {
        "id": "9-KbKZUg_QFm"
      },
      "source": [
        "## Logging\n",
        "\n",
        "You may want to see the process log."
      ]
    },
    {
      "cell_type": "code",
      "metadata": {
        "id": "YDzW7USV_QFm"
      },
      "source": [
        "from logging import getLogger, INFO, DEBUG, WARNING\n",
        "logger = getLogger()\n",
        "logger.setLevel(INFO)\n",
        "\n",
        "from genice2.genice import GenIce\n",
        "from genice2.plugin import Lattice, Format, Molecule\n",
        "\n",
        "lattice   = Lattice(\"1c\")\n",
        "formatter = Format(\"gromacs\")\n",
        "water     = Molecule(\"spce\")\n",
        "ice = GenIce(lattice, rep=(16,16,16), signature=\"Jupyter test\").generate_ice(formatter, water=water)\n",
        "with open(\"ice1c.gro\", \"w\") as f:\n",
        "    f.write(ice)\n",
        "\n",
        "logger.setLevel(WARNING)"
      ],
      "execution_count": null,
      "outputs": []
    },
    {
      "cell_type": "markdown",
      "metadata": {
        "id": "GWN1tTvXDu_-"
      },
      "source": [
        "## Raw data\n",
        "\n",
        "You can access the \"raw\" (internal) data."
      ]
    },
    {
      "cell_type": "code",
      "metadata": {
        "id": "mpM25WEgDu_-"
      },
      "source": [
        "from genice2.genice import GenIce\n",
        "from genice2.plugin import Lattice, Format, Molecule\n",
        "\n",
        "lattice    = Lattice(\"xFAU\", rep=3)\n",
        "formatter  = Format(\"raw\", stage=(1,))\n",
        "raw = GenIce(lattice, signature=\"Aeroice 3xFAU\").generate_ice(formatter)\n",
        "\n",
        "raw"
      ],
      "execution_count": null,
      "outputs": []
    },
    {
      "cell_type": "markdown",
      "metadata": {
        "id": "EcA4cvEnDvAB"
      },
      "source": [
        "### Visualization by Plotly\n",
        "\n",
        "Use the raw data to plot by yourself."
      ]
    },
    {
      "cell_type": "code",
      "metadata": {
        "id": "Red3f1LdDvAB"
      },
      "source": [
        "waters = raw[\"reppositions\"]\n",
        "import plotly.graph_objects as go\n",
        "\n",
        "fig = go.Figure(data=[go.Scatter3d(x = waters[:,0],\n",
        "                                   y = waters[:,1],\n",
        "                                   z = waters[:,2],\n",
        "                                   marker=dict(size=10),\n",
        "                                   mode = 'markers'\n",
        "                                   )])\n",
        "fig.show()"
      ],
      "execution_count": null,
      "outputs": []
    },
    {
      "cell_type": "markdown",
      "metadata": {
        "id": "L2P6aWpku91I"
      },
      "source": [
        "## Integration with py3Dmol.\n",
        "\n",
        "Py3Dmol works on Google Colaboratory."
      ]
    },
    {
      "cell_type": "code",
      "metadata": {
        "id": "_3GLhHNttlZP"
      },
      "source": [
        "%pip install py3Dmol"
      ],
      "execution_count": null,
      "outputs": []
    },
    {
      "cell_type": "code",
      "metadata": {
        "id": "bdtB9dUStqAw"
      },
      "source": [
        "from genice2.genice import GenIce\n",
        "from genice2.plugin import Lattice, Format, Molecule\n",
        "\n",
        "lattice    = Lattice(\"1h_unit\")\n",
        "formatter  = Format(\"gromacs\")\n",
        "water      = Molecule(\"spce\")\n",
        "ice = GenIce(lattice, rep=(4,4,4)).generate_ice(formatter, water=water)"
      ],
      "execution_count": null,
      "outputs": []
    },
    {
      "cell_type": "code",
      "metadata": {
        "id": "BxolfqLTt2oO"
      },
      "source": [
        "import py3Dmol\n",
        "\n",
        "view = py3Dmol.view()\n",
        "view.addModel(ice, 'gro')\n",
        "view.setStyle({'stick':{}})\n",
        "view.addUnitCell()\n",
        "view.zoomTo()"
      ],
      "execution_count": null,
      "outputs": []
    },
    {
      "cell_type": "markdown",
      "metadata": {
        "id": "g764Gyfco0jo"
      },
      "source": [
        "## Various file formats using MDAnalysis"
      ]
    },
    {
      "cell_type": "code",
      "metadata": {
        "id": "PDRm3tgBrO6E"
      },
      "source": [
        "%pip install genice2-mdanalysis\n",
        "exit(0)\n"
      ],
      "execution_count": null,
      "outputs": []
    },
    {
      "cell_type": "code",
      "metadata": {
        "id": "_hAM4JLxpDTy"
      },
      "source": [
        "from genice2.genice import GenIce\n",
        "from genice2.plugin import Lattice, Format, Molecule\n",
        "\n",
        "lattice    = Lattice(\"1h_unit\")\n",
        "formatter  = Format(\"mdanalysis\")\n",
        "water      = Molecule(\"spce\")\n",
        "# MDAnalysis universe\n",
        "universe = GenIce(lattice, rep=(4,4,4)).generate_ice(formatter, water=water)\n"
      ],
      "execution_count": null,
      "outputs": []
    },
    {
      "cell_type": "code",
      "metadata": {
        "id": "KBMprmJ3rgdw"
      },
      "source": [
        "# MDAnalysis universe object\n",
        "\n",
        "# Save as a .gro file.\n",
        "allatoms = universe.select_atoms(\"all\")\n",
        "allatoms.write(\"1h_unit.pdb\")"
      ],
      "execution_count": null,
      "outputs": []
    },
    {
      "cell_type": "code",
      "metadata": {
        "id": "lC2OFBkzscMO"
      },
      "source": [],
      "execution_count": null,
      "outputs": []
    }
  ]
}