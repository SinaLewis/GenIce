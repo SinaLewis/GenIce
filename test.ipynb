{
 "cells": [
  {
   "cell_type": "markdown",
   "metadata": {
    "colab_type": "text",
    "id": "view-in-github"
   },
   "source": [
    "<a href=\"https://colab.research.google.com/github/vitroid/GenIce/blob/genice2/test.ipynb\" target=\"_parent\"><img src=\"https://colab.research.google.com/assets/colab-badge.svg\" alt=\"Open In Colab\"/></a>"
   ]
  },
  {
   "cell_type": "markdown",
   "metadata": {
    "colab_type": "text",
    "id": "HNwYAWaR_QFK"
   },
   "source": [
    "Tests to run GenIce on Jupyter and Google Colaboratory."
   ]
  },
  {
   "cell_type": "code",
   "execution_count": null,
   "metadata": {
    "colab": {},
    "colab_type": "code",
    "id": "gFymXYXdA1_a"
   },
   "outputs": [],
   "source": [
    "# GenIce2 is not available in PyPI for now.\n",
    "# %pip install genice2\n",
    "\n",
    "# Instead, install them from github repository.\n",
    "! git clone -b genice2 https://github.com/vitroid/GenIce.git\n",
    "! cd GenIce; python setup.py install\n",
    "# and restart the python kernel\n",
    "import os\n",
    "os._exit(0)"
   ]
  },
  {
   "cell_type": "markdown",
   "metadata": {
    "colab_type": "text",
    "id": "-pFXcvVJ_QFQ"
   },
   "source": [
    "A simplest sample."
   ]
  },
  {
   "cell_type": "code",
   "execution_count": null,
   "metadata": {
    "colab": {
     "base_uri": "https://localhost:8080/",
     "height": 918
    },
    "colab_type": "code",
    "id": "P85n-TcL_QFR",
    "outputId": "a65bcec2-ffcc-4701-b039-5eb2b9a2a9f5"
   },
   "outputs": [],
   "source": [
    "from genice2.genice import GenIce\n",
    "from genice2.plugin import safe_import\n",
    "\n",
    "lattice    = safe_import(\"lattice\", \"ice11_19\").Lattice() \n",
    "formatter  = safe_import(\"format\", \"gromacs\").Format()\n",
    "water      = safe_import(\"molecule\", \"spce\").Molecule()\n",
    "ice = GenIce(lattice).generate_ice(water, formatter)\n",
    "print(ice)"
   ]
  },
  {
   "cell_type": "markdown",
   "metadata": {
    "colab_type": "text",
    "id": "mI8MvQyc_QFV"
   },
   "source": [
    "Install an extra package to show image inline."
   ]
  },
  {
   "cell_type": "code",
   "execution_count": null,
   "metadata": {
    "colab": {},
    "colab_type": "code",
    "id": "LVcUN4_z_QFV"
   },
   "outputs": [],
   "source": [
    "# New genice-svg is not available for now.\n",
    "# %pip install genice_svg\n",
    "\n",
    "# Instead, install them from github repository.\n",
    "! rm -rf genice-svg\n",
    "! pip uninstall -y genice-svg genice2_svg\n",
    "! git clone -b genice2 https://github.com/vitroid/genice-svg.git\n",
    "! cd genice-svg; python setup.py install\n",
    "# and restart the python kernel\n",
    "import os\n",
    "os._exit(0)"
   ]
  },
  {
   "cell_type": "code",
   "execution_count": null,
   "metadata": {
    "colab": {
     "base_uri": "https://localhost:8080/",
     "height": 288
    },
    "colab_type": "code",
    "id": "JujsH423_QFY",
    "outputId": "a1ad2dfd-2e9b-46e7-a6cb-638743add9df"
   },
   "outputs": [],
   "source": [
    "from genice2.genice import GenIce\n",
    "from genice2.plugin import safe_import\n",
    "\n",
    "lattice    = safe_import(\"lattice\", \"ice3\").Lattice() \n",
    "formatter  = safe_import(\"format\", \"svg\").Format(shadow=True)\n",
    "water      = safe_import(\"molecule\", \"spce\").Molecule()\n",
    "img = GenIce(lattice, rep=[2,2,2]).generate_ice(water, formatter)\n",
    "\n",
    "from IPython.display import SVG, display\n",
    "display(SVG(img))"
   ]
  },
  {
   "cell_type": "markdown",
   "metadata": {
    "colab_type": "text",
    "id": "t0Z0QSOK_QFb"
   },
   "source": [
    "PNG renderer is also included in genice_svg package."
   ]
  },
  {
   "cell_type": "code",
   "execution_count": null,
   "metadata": {
    "colab": {
     "base_uri": "https://localhost:8080/",
     "height": 309
    },
    "colab_type": "code",
    "id": "l0sg81tt_QFc",
    "outputId": "6f467c28-2c54-41ab-ae06-11b5522cde55"
   },
   "outputs": [],
   "source": [
    "from genice2.genice import GenIce\n",
    "from genice2.plugin import safe_import\n",
    "\n",
    "lattice    = safe_import(\"lattice\", \"ice3\").Lattice() \n",
    "formatter  = safe_import(\"format\", \"png\").Format(shadow=\"#8881\",encode=False,bg=\"#fff\",rotatex=5,rotatey=5)\n",
    "water      = safe_import(\"molecule\", \"spce\").Molecule()\n",
    "img = GenIce(lattice, rep=[2,2,2]).generate_ice(water, formatter)\n",
    "\n",
    "from IPython.display import display\n",
    "display(img)"
   ]
  },
  {
   "cell_type": "markdown",
   "metadata": {
    "colab_type": "text",
    "id": "Y3CtlAt-_QFe"
   },
   "source": [
    "Or save it in a PNG file."
   ]
  },
  {
   "cell_type": "code",
   "execution_count": null,
   "metadata": {
    "colab": {},
    "colab_type": "code",
    "id": "uv8aW75b_QFf"
   },
   "outputs": [],
   "source": [
    "from genice2.genice import GenIce\n",
    "from genice2.plugin import safe_import\n",
    "\n",
    "lattice    = safe_import(\"lattice\", \"ice3\").Lattice() \n",
    "formatter  = safe_import(\"format\", \"png\").Format(shadow=\"#8881\",encode=True,bg=\"#fff\",rotatex=5,rotatey=5)\n",
    "water      = safe_import(\"molecule\", \"spce\").Molecule()\n",
    "img = GenIce(lattice, rep=[2,2,2]).generate_ice(water, formatter)\n",
    "\n",
    "with open(\"ice3.png\", \"wb\") as f:\n",
    "    f.write(img)"
   ]
  },
  {
   "cell_type": "markdown",
   "metadata": {
    "colab_type": "text",
    "id": "nTt0sIHi_QFi"
   },
   "source": [
    "Some statistical analyses are also available."
   ]
  },
  {
   "cell_type": "code",
   "execution_count": null,
   "metadata": {
    "colab": {
     "base_uri": "https://localhost:8080/",
     "height": 279
    },
    "colab_type": "code",
    "id": "g4dWcvwv_QFj",
    "outputId": "6750c3cb-0573-4850-8523-77f1c87c9d9d"
   },
   "outputs": [],
   "source": [
    "from genice2.genice import GenIce\n",
    "from genice2.plugin import safe_import\n",
    "\n",
    "lattice    = safe_import(\"lattice\", \"T\").Lattice() \n",
    "formatter  = safe_import(\"format\", \"_KG\").Format()\n",
    "water      = safe_import(\"molecule\", \"spce\").Molecule()\n",
    "result = GenIce(lattice).generate_ice(water, formatter)\n",
    "\n",
    "import numpy as np\n",
    "from matplotlib import pyplot as plt\n",
    "\n",
    "kg = np.fromstring(result, dtype=float, sep=\" \")\n",
    "N = kg.shape[0]\n",
    "kg = kg.reshape([N//2, 2])\n",
    "plt.plot(kg[:,0], kg[:,1])\n",
    "plt.xlabel(\"r / nm\")\n",
    "plt.ylabel(\"Kirkwood G\")\n",
    "plt.show()"
   ]
  },
  {
   "cell_type": "markdown",
   "metadata": {
    "colab_type": "text",
    "id": "9-KbKZUg_QFm"
   },
   "source": [
    "You may want to see the process log."
   ]
  },
  {
   "cell_type": "code",
   "execution_count": null,
   "metadata": {
    "colab": {
     "base_uri": "https://localhost:8080/",
     "height": 1000
    },
    "colab_type": "code",
    "id": "YDzW7USV_QFm",
    "outputId": "755c26eb-81f2-497d-824a-4b8515670061"
   },
   "outputs": [],
   "source": [
    "from logging import getLogger, INFO, DEBUG, WARNING\n",
    "logger = getLogger()\n",
    "logger.setLevel(INFO)\n",
    "\n",
    "from genice2.genice import GenIce\n",
    "from genice2.plugin import safe_import\n",
    "\n",
    "lattice   = safe_import(\"lattice\", \"1c\").Lattice() \n",
    "formatter = safe_import(\"format\", \"gromacs\").Format()\n",
    "water     = safe_import(\"molecule\", \"spce\").Molecule()\n",
    "ice = GenIce(lattice, signature=\"Jupyter test\").generate_ice(water, formatter)\n",
    "print(ice)\n",
    "\n",
    "logger.setLevel(WARNING)"
   ]
  },
  {
   "cell_type": "markdown",
   "metadata": {},
   "source": [
    "You can access the \"raw\" (internal) data."
   ]
  },
  {
   "cell_type": "code",
   "execution_count": null,
   "metadata": {},
   "outputs": [],
   "source": [
    "from genice2.genice import GenIce\n",
    "from genice2.plugin import safe_import\n",
    "\n",
    "lattice    = safe_import(\"lattice\", \"xFAU2\").Lattice(rep=3) \n",
    "formatter  = safe_import(\"format\", \"raw\").Format(stage=(1,))\n",
    "water      = safe_import(\"molecule\", \"spce\").Molecule()\n",
    "raw = GenIce(lattice, signature=\"Aeroice 3xFAU\").generate_ice(water, formatter)\n",
    "\n",
    "raw"
   ]
  },
  {
   "cell_type": "markdown",
   "metadata": {},
   "source": [
    "Use the raw data to plot by yourself."
   ]
  },
  {
   "cell_type": "code",
   "execution_count": null,
   "metadata": {},
   "outputs": [],
   "source": [
    "waters = raw[\"reppositions\"]\n",
    "import plotly.graph_objects as go\n",
    "\n",
    "fig = go.Figure(data=[go.Scatter3d(x = waters[:,0], \n",
    "                                   y = waters[:,1], \n",
    "                                   z = waters[:,2],\n",
    "                                   marker=dict(size=3),\n",
    "                                   mode = 'markers'\n",
    "                                   )])\n",
    "fig.show()"
   ]
  }
 ],
 "metadata": {
  "colab": {
   "include_colab_link": true,
   "name": "test.ipynb",
   "provenance": []
  },
  "kernelspec": {
   "display_name": "Python 3",
   "language": "python",
   "name": "python3"
  },
  "language_info": {
   "codemirror_mode": {
    "name": "ipython",
    "version": 3
   },
   "file_extension": ".py",
   "mimetype": "text/x-python",
   "name": "python",
   "nbconvert_exporter": "python",
   "pygments_lexer": "ipython3",
   "version": "3.7.3"
  }
 },
 "nbformat": 4,
 "nbformat_minor": 4
}
