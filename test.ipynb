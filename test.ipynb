{
 "cells": [
  {
   "cell_type": "markdown",
   "metadata": {},
   "source": [
    "Tests to run GenIce on Jupyter and Google Colaboratory."
   ]
  },
  {
   "cell_type": "code",
   "execution_count": 2,
   "metadata": {},
   "outputs": [
    {
     "name": "stdout",
     "output_type": "stream",
     "text": [
      "Requirement already satisfied: genice in /Volumes/Shared/GoogleDrive/gitwork/GenIce (1.0.11)\n",
      "Requirement already satisfied: networkx>=2 in /Volumes/workarea/venvs/genice-api/lib/python3.7/site-packages (from genice) (2.5)\n",
      "Requirement already satisfied: countrings>=0.1.7 in /Volumes/workarea/venvs/genice-api/lib/python3.7/site-packages (from genice) (0.1.7)\n",
      "Requirement already satisfied: pairlist>=0.2.3 in /Volumes/workarea/venvs/genice-api/lib/python3.7/site-packages (from genice) (0.2.10.1)\n",
      "Requirement already satisfied: yaplotlib>=0.1 in /Volumes/workarea/venvs/genice-api/lib/python3.7/site-packages (from genice) (0.1.2)\n",
      "Requirement already satisfied: numpy in /Volumes/workarea/venvs/genice-api/lib/python3.7/site-packages (from genice) (1.19.1)\n",
      "Requirement already satisfied: decorator>=4.3.0 in /Volumes/workarea/venvs/genice-api/lib/python3.7/site-packages (from networkx>=2->genice) (4.4.2)\n",
      "Requirement already satisfied: methodtools in /Volumes/workarea/venvs/genice-api/lib/python3.7/site-packages (from countrings>=0.1.7->genice) (0.4.2)\n",
      "Requirement already satisfied: wirerope>=0.4.2 in /Volumes/workarea/venvs/genice-api/lib/python3.7/site-packages (from methodtools->countrings>=0.1.7->genice) (0.4.2)\n",
      "Requirement already satisfied: six>=1.11.0 in /Volumes/workarea/venvs/genice-api/lib/python3.7/site-packages (from wirerope>=0.4.2->methodtools->countrings>=0.1.7->genice) (1.15.0)\n",
      "\u001b[33mYou are using pip version 19.0.3, however version 20.2.2 is available.\n",
      "You should consider upgrading via the 'pip install --upgrade pip' command.\u001b[0m\n",
      "Note: you may need to restart the kernel to use updated packages.\n"
     ]
    }
   ],
   "source": [
    "%pip install genice"
   ]
  },
  {
   "cell_type": "code",
   "execution_count": 3,
   "metadata": {},
   "outputs": [
    {
     "name": "stderr",
     "output_type": "stream",
     "text": [
      "WARNING:root:('lattice', 'prism', {'5': True})\n",
      "WARNING:root:Argparser is deprecated.\n",
      "INFO:root:Load lattice module 'prism', arguments [5]\n",
      "WARNING:root:('format', 'python', {})\n",
      "WARNING:root:Options are given but the module does not accept them.\n",
      "WARNING:root:('molecule', '4site', {})\n",
      "WARNING:root:Options are given but the module does not accept them.\n",
      "INFO:root:  \n",
      "INFO:root:  [1] M. W. Mahoney and W. L. Jorgensen, A five-site model for liquid water and the reproduction of the density anomaly by rigid, nonpolarizable potential functions, J. Chem. Phys. 112 (2000) 8910-8922. [Back]\n",
      "INFO:root:  [2] W. L. Jorgensen, J. Chandrasekhar, J. D. Madura, R. W. Impey, and M. L. Klein, Comparison of simple potential functions for simulating liquid water, J. Chem. Phys. 79 (1983) 926-935\n",
      "INFO:root:  [3] W. L. Jorgensen and J. D. Madura, Temperature and size dependence for monte carlo simulations of TIP4P water, Mol. Phys. 56 (1985) 1381-1392.\n",
      "INFO:root:  \n",
      "INFO:root:  Note: Due to the technical limitation in the GenIce algorithm, the minimum lattice size is larger than the crystallographic unit cell size.\n",
      "INFO:root:No rotmatrices in lattice\n",
      "INFO:root:Cell dimension:\n",
      "INFO:root:  a = 55.0\n",
      "INFO:root:  b = 55.0\n",
      "INFO:root:  c = 27.5\n",
      "INFO:root:  A = 90.0\n",
      "INFO:root:  B = 90.0\n",
      "INFO:root:  C = 90.0\n",
      "INFO:root:HB connectivity is not defined.\n",
      "INFO:root:Bond length (specified): 3\n",
      "INFO:root:Target Density: 0.017965681057759416\n",
      "INFO:root:Original Density: 1.7965681057759385e-05\n",
      "INFO:root:Bond length (scaled, nm): 0.2999999999999998\n"
     ]
    },
    {
     "ename": "AttributeError",
     "evalue": "'NoneType' object has no attribute 'hooks'",
     "output_type": "error",
     "traceback": [
      "\u001b[0;31m---------------------------------------------------------------------------\u001b[0m",
      "\u001b[0;31mAttributeError\u001b[0m                            Traceback (most recent call last)",
      "\u001b[0;32m<ipython-input-3-dbe74de8f5b2>\u001b[0m in \u001b[0;36m<module>\u001b[0;34m\u001b[0m\n\u001b[1;32m     13\u001b[0m \u001b[0mguests\u001b[0m        \u001b[0;34m=\u001b[0m \u001b[0;32mNone\u001b[0m\u001b[0;34m\u001b[0m\u001b[0;34m\u001b[0m\u001b[0m\n\u001b[1;32m     14\u001b[0m \u001b[0mlat\u001b[0m \u001b[0;34m=\u001b[0m \u001b[0mgi\u001b[0m\u001b[0;34m.\u001b[0m\u001b[0mGenIce\u001b[0m\u001b[0;34m(\u001b[0m\u001b[0mlattice_maker\u001b[0m\u001b[0;34m)\u001b[0m\u001b[0;34m\u001b[0m\u001b[0;34m\u001b[0m\u001b[0m\n\u001b[0;32m---> 15\u001b[0;31m \u001b[0mice\u001b[0m \u001b[0;34m=\u001b[0m \u001b[0mlat\u001b[0m\u001b[0;34m.\u001b[0m\u001b[0mgenerate_ice\u001b[0m\u001b[0;34m(\u001b[0m\u001b[0mwater\u001b[0m\u001b[0;34m,\u001b[0m \u001b[0mformatter\u001b[0m\u001b[0;34m=\u001b[0m\u001b[0mformatter\u001b[0m\u001b[0;34m)\u001b[0m\u001b[0;34m\u001b[0m\u001b[0;34m\u001b[0m\u001b[0m\n\u001b[0m\u001b[1;32m     16\u001b[0m \u001b[0mprint\u001b[0m\u001b[0;34m(\u001b[0m\u001b[0mice\u001b[0m\u001b[0;34m)\u001b[0m\u001b[0;34m\u001b[0m\u001b[0;34m\u001b[0m\u001b[0m\n",
      "\u001b[0;32m/Volumes/Shared/GoogleDrive/gitwork/GenIce/genice/genice.py\u001b[0m in \u001b[0;36mgenerate_ice\u001b[0;34m(self, water, formatter, guests, record_depolarization_path, depolarize, noise)\u001b[0m\n\u001b[1;32m    731\u001b[0m                      noise=0.):\n\u001b[1;32m    732\u001b[0m \u001b[0;34m\u001b[0m\u001b[0m\n\u001b[0;32m--> 733\u001b[0;31m         \u001b[0mhooks\u001b[0m \u001b[0;34m=\u001b[0m \u001b[0mformatter\u001b[0m\u001b[0;34m.\u001b[0m\u001b[0mhooks\u001b[0m\u001b[0;34m(\u001b[0m\u001b[0;34m)\u001b[0m\u001b[0;34m\u001b[0m\u001b[0;34m\u001b[0m\u001b[0m\n\u001b[0m\u001b[1;32m    734\u001b[0m         \u001b[0mmaxstage\u001b[0m \u001b[0;34m=\u001b[0m \u001b[0mmax\u001b[0m\u001b[0;34m(\u001b[0m\u001b[0;36m0\u001b[0m\u001b[0;34m,\u001b[0m \u001b[0;34m*\u001b[0m\u001b[0mhooks\u001b[0m\u001b[0;34m.\u001b[0m\u001b[0mkeys\u001b[0m\u001b[0;34m(\u001b[0m\u001b[0;34m)\u001b[0m\u001b[0;34m)\u001b[0m\u001b[0;34m\u001b[0m\u001b[0;34m\u001b[0m\u001b[0m\n\u001b[1;32m    735\u001b[0m         \u001b[0mlogger\u001b[0m \u001b[0;34m=\u001b[0m \u001b[0mgetLogger\u001b[0m\u001b[0;34m(\u001b[0m\u001b[0;34m)\u001b[0m\u001b[0;34m\u001b[0m\u001b[0;34m\u001b[0m\u001b[0m\n",
      "\u001b[0;31mAttributeError\u001b[0m: 'NoneType' object has no attribute 'hooks'"
     ]
    }
   ],
   "source": [
    "import sys\n",
    "from logging import getLogger, INFO\n",
    "logger = getLogger()\n",
    "logger.setLevel(INFO)\n",
    "\n",
    "from genice import genice as gi\n",
    "from genice.importer import safe_import\n",
    "\n",
    "# optionをどう渡すのか。\n",
    "lattice_maker = safe_import(\"lattice\", \"prism\", **{\"5\": True})\n",
    "formatter     = safe_import(\"format\", \"python\").Format()\n",
    "water         = safe_import(\"molecule\", \"4site\")\n",
    "guests        = None\n",
    "lat = gi.GenIce(lattice_maker)\n",
    "ice = lat.generate_ice(water, formatter=formatter)\n",
    "print(ice)"
   ]
  },
  {
   "cell_type": "code",
   "execution_count": 2,
   "metadata": {},
   "outputs": [
    {
     "ename": "NameError",
     "evalue": "name 'formatter' is not defined",
     "output_type": "error",
     "traceback": [
      "\u001b[0;31m---------------------------------------------------------------------------\u001b[0m",
      "\u001b[0;31mNameError\u001b[0m                                 Traceback (most recent call last)",
      "\u001b[0;32m<ipython-input-2-2ba3010f55d7>\u001b[0m in \u001b[0;36m<module>\u001b[0;34m\u001b[0m\n\u001b[0;32m----> 1\u001b[0;31m \u001b[0mformatter\u001b[0m\u001b[0;34m.\u001b[0m\u001b[0mkwargs\u001b[0m\u001b[0;34m\u001b[0m\u001b[0;34m\u001b[0m\u001b[0m\n\u001b[0m",
      "\u001b[0;31mNameError\u001b[0m: name 'formatter' is not defined"
     ]
    }
   ],
   "source": [
    "formatter.kwargs"
   ]
  },
  {
   "cell_type": "code",
   "execution_count": 2,
   "metadata": {},
   "outputs": [
    {
     "ename": "SystemExit",
     "evalue": "1",
     "output_type": "error",
     "traceback": [
      "\u001b[0;31m---------------------------------------------------------------------------\u001b[0m",
      "\u001b[0;31mSystemExit\u001b[0m                                Traceback (most recent call last)",
      "\u001b[0;32m<ipython-input-1-8e1f4b108e77>\u001b[0m in \u001b[0;36m<module>\u001b[0;34m\u001b[0m\n\u001b[1;32m      4\u001b[0m \u001b[0;31m# optionをどう渡すのか。\u001b[0m\u001b[0;34m\u001b[0m\u001b[0;34m\u001b[0m\u001b[0;34m\u001b[0m\u001b[0m\n\u001b[1;32m      5\u001b[0m \u001b[0mlattice_maker\u001b[0m \u001b[0;34m=\u001b[0m \u001b[0msafe_import\u001b[0m\u001b[0;34m(\u001b[0m\u001b[0;34m\"lattice\"\u001b[0m\u001b[0;34m,\u001b[0m \u001b[0;34m\"3\"\u001b[0m\u001b[0;34m)\u001b[0m\u001b[0;34m\u001b[0m\u001b[0;34m\u001b[0m\u001b[0m\n\u001b[0;32m----> 6\u001b[0;31m \u001b[0mformatter\u001b[0m     \u001b[0;34m=\u001b[0m \u001b[0msafe_import\u001b[0m\u001b[0;34m(\u001b[0m\u001b[0;34m\"format\"\u001b[0m\u001b[0;34m,\u001b[0m \u001b[0;34m\"png\"\u001b[0m\u001b[0;34m,\u001b[0m \u001b[0mshadow\u001b[0m\u001b[0;34m=\u001b[0m\u001b[0;32mTrue\u001b[0m\u001b[0;34m)\u001b[0m\u001b[0;34m\u001b[0m\u001b[0;34m\u001b[0m\u001b[0m\n\u001b[0m\u001b[1;32m      7\u001b[0m \u001b[0mwater\u001b[0m         \u001b[0;34m=\u001b[0m \u001b[0msafe_import\u001b[0m\u001b[0;34m(\u001b[0m\u001b[0;34m\"molecule\"\u001b[0m\u001b[0;34m,\u001b[0m \u001b[0;34m\"4site\"\u001b[0m\u001b[0;34m)\u001b[0m\u001b[0;34m\u001b[0m\u001b[0;34m\u001b[0m\u001b[0m\n\u001b[1;32m      8\u001b[0m \u001b[0mguests\u001b[0m        \u001b[0;34m=\u001b[0m \u001b[0;32mNone\u001b[0m\u001b[0;34m\u001b[0m\u001b[0;34m\u001b[0m\u001b[0m\n",
      "\u001b[0;32m/Volumes/Shared/GoogleDrive/gitwork/GenIce/genice/importer.py\u001b[0m in \u001b[0;36msafe_import\u001b[0;34m(category, name, **kwarg)\u001b[0m\n\u001b[1;32m     69\u001b[0m             \u001b[0;32mpass\u001b[0m\u001b[0;34m\u001b[0m\u001b[0;34m\u001b[0m\u001b[0m\n\u001b[1;32m     70\u001b[0m     \u001b[0;32mif\u001b[0m \u001b[0mmodule\u001b[0m \u001b[0;32mis\u001b[0m \u001b[0;32mNone\u001b[0m\u001b[0;34m:\u001b[0m\u001b[0;34m\u001b[0m\u001b[0;34m\u001b[0m\u001b[0m\n\u001b[0;32m---> 71\u001b[0;31m         \u001b[0mmodule\u001b[0m \u001b[0;34m=\u001b[0m \u001b[0mimport_extra\u001b[0m\u001b[0;34m(\u001b[0m\u001b[0mcategory\u001b[0m\u001b[0;34m,\u001b[0m \u001b[0mname\u001b[0m\u001b[0;34m)\u001b[0m\u001b[0;34m\u001b[0m\u001b[0;34m\u001b[0m\u001b[0m\n\u001b[0m\u001b[1;32m     72\u001b[0m \u001b[0;34m\u001b[0m\u001b[0m\n\u001b[1;32m     73\u001b[0m     \u001b[0mlogger\u001b[0m\u001b[0;34m.\u001b[0m\u001b[0minfo\u001b[0m\u001b[0;34m(\u001b[0m\u001b[0;34m\"Load {0} module '{1}', arguments [{2}]\"\u001b[0m\u001b[0;34m.\u001b[0m\u001b[0mformat\u001b[0m\u001b[0;34m(\u001b[0m\u001b[0mcategory\u001b[0m\u001b[0;34m,\u001b[0m \u001b[0mname\u001b[0m\u001b[0;34m,\u001b[0m \u001b[0marg\u001b[0m\u001b[0;34m)\u001b[0m\u001b[0;34m)\u001b[0m\u001b[0;34m\u001b[0m\u001b[0;34m\u001b[0m\u001b[0m\n",
      "\u001b[0;32m/Volumes/Shared/GoogleDrive/gitwork/GenIce/genice/importer.py\u001b[0m in \u001b[0;36mimport_extra\u001b[0;34m(category, name)\u001b[0m\n\u001b[1;32m     28\u001b[0m     \u001b[0;32mif\u001b[0m \u001b[0mmodule\u001b[0m \u001b[0;32mis\u001b[0m \u001b[0;32mNone\u001b[0m\u001b[0;34m:\u001b[0m\u001b[0;34m\u001b[0m\u001b[0;34m\u001b[0m\u001b[0m\n\u001b[1;32m     29\u001b[0m         \u001b[0mlogger\u001b[0m\u001b[0;34m.\u001b[0m\u001b[0merror\u001b[0m\u001b[0;34m(\u001b[0m\u001b[0;34m\"Nonexistent module: {0}\"\u001b[0m\u001b[0;34m.\u001b[0m\u001b[0mformat\u001b[0m\u001b[0;34m(\u001b[0m\u001b[0mname\u001b[0m\u001b[0;34m)\u001b[0m\u001b[0;34m)\u001b[0m\u001b[0;34m\u001b[0m\u001b[0;34m\u001b[0m\u001b[0m\n\u001b[0;32m---> 30\u001b[0;31m         \u001b[0msys\u001b[0m\u001b[0;34m.\u001b[0m\u001b[0mexit\u001b[0m\u001b[0;34m(\u001b[0m\u001b[0;36m1\u001b[0m\u001b[0;34m)\u001b[0m\u001b[0;34m\u001b[0m\u001b[0;34m\u001b[0m\u001b[0m\n\u001b[0m\u001b[1;32m     31\u001b[0m     \u001b[0;32mreturn\u001b[0m \u001b[0mmodule\u001b[0m\u001b[0;34m\u001b[0m\u001b[0;34m\u001b[0m\u001b[0m\n\u001b[1;32m     32\u001b[0m \u001b[0;34m\u001b[0m\u001b[0m\n",
      "\u001b[0;31mSystemExit\u001b[0m: 1"
     ]
    }
   ],
   "source": [
    "%tb"
   ]
  },
  {
   "cell_type": "markdown",
   "metadata": {},
   "source": [
    "理想的なAPIはどんな感じだろう。\n",
    "\n",
    "```python\n",
    "from genice.formats import ice3 \n",
    "lattice_maker = ice3(options)\n",
    "```\n",
    "この書法だと、オプションはどうやって渡すのか?\n",
    "\n",
    "書き方はシンプルだが、動的に氷の名前を選べるようにするのが却って難しくなる。\n",
    "さらに、ユーザー定義のモジュールを呼びにくくなる。\n",
    "\n",
    "一方、現状の仕様の最大の問題は、moduleだと、一度読み込まれたあと、kernelをリスタートしない限り読まれっぱなしだということ。これは致命的に問題。Jupyterの用法にまったくそぐわない。\n",
    "\n",
    "この意味で、moduleそのものを利用するのではなく、class定義をmoduleから読みこむようにすべき。インスタンスはその都度生成する。\n",
    "\n",
    "https://www.geeksforgeeks.org/how-to-dynamically-load-modules-or-classes-in-python/\n",
    "を参考に、\n",
    "* ユーザーが書いたmoduleファイルの中でクラスを定義する。\n",
    "* それを必要な時に読みこんでinstanceを生成する。\n",
    "* できるだけ、safe_importの枠組みは維持する。\n",
    "* moduleはクラスではないのか? ちがう。moduleをclassのようには使えない。classが欲しいならclass定義するしかない。Sigh.\n",
    "\n",
    "```python\n",
    "lattice_class = safe_import(\"lattice\", \"5\", \"Ice5\") # type, module name, class name\n",
    "```\n",
    "\n",
    "* 同じ名前のクラスを定義すると、上書きされる? いや、そんなことはないはず。\n",
    "* `genice.lattices.ice5.Lattice`と`genice.lattices.ice3.Lattice`はクラス名が同じでも区別可能。\n",
    "\n",
    "```python\n",
    "lattice_module = safe_import(\"lattice\", \"5\") # type, module name\n",
    "lattice        = lattice_module.Lattice(options) # make an instance\n",
    "```\n",
    "* `.Lattice`の部分をモジュール依存の名前にしてしまうと、呼び出しが面倒になるだけでメリットがない。\n",
    "* moduleにはLatticeクラスが1つだけ定義されているとする。そして、そのテンプレートを作り、継承する。\n",
    "* この方針なら、safe_importを変更する必要はない。むしろ、オプションの解釈をクラスにまかせられるので、もっとシンプルにできる。\n",
    "\n",
    "* もっとオブジェクト指向っぽいワークフローにしたい。\n",
    "* 何が何に依存していて、何が何を内包すべきかをもう一度ちゃんと考える。\n",
    "* `lattice`は基本的には単位胞のなかの酸素の位置の情報のみを持つ。水素などの情報は、formatが決まるまでは必要ない可能性があるから。\n",
    "* latticeにformatterの情報を与えるというよりは、formatterにlatticeの情報や何やかやを食わせるのが正しい気がする。\n",
    "\n",
    "```python\n",
    "lattice_module = safe_import(\"lattice\", \"5\") # type, module name\n",
    "lattice        = lattice_module.Lattice(options) # make an instance\n",
    "formatter      = safe_import(\"format\", \"python\").Format(lattice, water, guests)\n",
    "```\n",
    "\n",
    "* その場合、じゃあ、analiceはどういう動作になる?\n",
    "\n",
    "```python\n",
    "loader_module  = safe_import(\"loader\", \"gro\") # type, module name\n",
    "lattices_iter  = loader_module.Loader(filename_pattern, options) # make an instance\n",
    "formatter      = safe_import(\"format\", \"python\").Format(lattices_iter, water, guests)\n",
    "formatter.dump(\"filename\")\n",
    "```\n",
    "\n",
    "* Format() コンストラクタがパラメータをうけとり、dumpの中で分子配置を生成する。\n",
    "* dumpはすべての構造を読みこんでから処理してもいいし、逐次出力してもいい。\n",
    "* こうすれば、例えばGenIceで氷3と氷5をまとめて生成することもできる。\n",
    "\n",
    "```python\n",
    "lattice5 = safe_import(\"lattice\", \"5\").Lattice()\n",
    "lattice3 = safe_import(\"lattice\", \"3\").Lattice()\n",
    "formatter= safe_import(\"format\", \"python\").Format([lattice3, lattice5], water, guests)\n",
    "```\n",
    "\n",
    "* でもそうすると、waterやguestsの場所がここでいいのか、すこし不安になるね。\n",
    "* 将来、もしanaliceがゲスト位置も読みこむようになるなら? それでもいいか。\n",
    "\n",
    "* ここでいうguestというのは、分子の名前とクラスの対応を示しているだけ。どの場所にするかはどこでどうやって指示する?\n",
    "\n",
    "* 全optionが合理的に指定できるかどうかを、ひきつづき検討する。\n"
   ]
  },
  {
   "cell_type": "code",
   "execution_count": 3,
   "metadata": {},
   "outputs": [
    {
     "name": "stderr",
     "output_type": "stream",
     "text": [
      "WARNING:root:('lattice', '5', {})\n",
      "WARNING:root:Options are given but the module does not accept them.\n",
      "WARNING:root:('format', 'python', {})\n",
      "WARNING:root:('molecule', '4site', {})\n",
      "WARNING:root:Options are given but the module does not accept them.\n",
      "INFO:root:  \n",
      "INFO:root:  [1] M. W. Mahoney and W. L. Jorgensen, A five-site model for liquid water and the reproduction of the density anomaly by rigid, nonpolarizable potential functions, J. Chem. Phys. 112 (2000) 8910-8922. [Back]\n",
      "INFO:root:  [2] W. L. Jorgensen, J. Chandrasekhar, J. D. Madura, R. W. Impey, and M. L. Klein, Comparison of simple potential functions for simulating liquid water, J. Chem. Phys. 79 (1983) 926-935\n",
      "INFO:root:  [3] W. L. Jorgensen and J. D. Madura, Temperature and size dependence for monte carlo simulations of TIP4P water, Mol. Phys. 56 (1985) 1381-1392.\n",
      "INFO:root:No rotmatrices in lattice\n",
      "INFO:root:Cell dimension:\n",
      "INFO:root:  a = 9.19977812589\n",
      "INFO:root:  b = 7.52346280577\n",
      "INFO:root:  c = 10.327299740014167\n",
      "INFO:root:  A = 90.0\n",
      "INFO:root:  B = 109.2\n",
      "INFO:root:  C = 90.0\n",
      "INFO:root:HB connectivity is not defined.\n",
      "INFO:root:Bond length (specified): 3\n",
      "INFO:root:Target Density: 1.23983176668\n",
      "INFO:root:Original Density: 0.0012398317666827844\n",
      "INFO:root:Bond length (scaled, nm): 0.3000000000002246\n",
      "INFO:root:Completed.\n",
      "INFO:root:Stage1: Replication.\n",
      "INFO:root:  Number of water molecules: 28\n",
      "INFO:root:  Pairs are not given explicitly.\n",
      "INFO:root:  Estimating the bonds according to the pair distances.\n",
      "INFO:root:  Number of water nodes: 28\n",
      "INFO:root:Cell dimension:\n",
      "INFO:root:  a = 0.9199778125896888\n",
      "INFO:root:  b = 0.7523462805775633\n",
      "INFO:root:  c = 1.0327299740021898\n",
      "INFO:root:  A = 90.0\n",
      "INFO:root:  B = 109.2\n",
      "INFO:root:  C = 90.0\n",
      "INFO:root:Stage1: end.\n",
      "INFO:root:Hook1: Output as a python module.\n",
      "INFO:root:  Reshaping the unit cell.\n",
      "INFO:root:    i:[1 0 0]\n",
      "INFO:root:    j:[0 1 0]\n",
      "INFO:root:    k:[0 0 1]\n",
      "INFO:root:  Total number of molecules: 28.0\n",
      "INFO:root:Hook1: end.\n"
     ]
    },
    {
     "name": "stdout",
     "output_type": "stream",
     "text": [
      "\"\"\"\n",
      "\n",
      "Reshaping the unit cell.\n",
      "  i:[1 0 0]\n",
      "  j:[0 1 0]\n",
      "  k:[0 0 1]\n",
      "\"\"\"\n",
      "bondlen=3.0000000000022458\n",
      "coord='relative'\n",
      "\n",
      "import numpy as np\n",
      "cell=np.array([[9.19977813, 0.00000000, 0.00000000], [0.00000000, 7.52346281, 0.00000000], [-3.39630444, 0.00000000, 9.75285784], ])\n",
      "density=1.23983176668\n",
      "waters=\"\"\"\n",
      "    0.8993    0.1404    0.4854\n",
      "    0.6007    0.1404    0.5146\n",
      "    0.1007    0.8596    0.5146\n",
      "    0.3993    0.8596    0.4854\n",
      "    0.8993    0.6404    0.9854\n",
      "    0.6007    0.6404    0.0146\n",
      "    0.1007    0.3596    0.0146\n",
      "    0.3993    0.3596    0.9854\n",
      "    0.7751    0.8475    0.7477\n",
      "    0.7249    0.8475    0.2523\n",
      "    0.2249    0.1525    0.2523\n",
      "    0.2751    0.1525    0.7477\n",
      "    0.7751    0.3475    0.2477\n",
      "    0.7249    0.3475    0.7523\n",
      "    0.2249    0.6525    0.7523\n",
      "    0.2751    0.6525    0.2477\n",
      "    0.9629    0.4435    0.6544\n",
      "    0.5371    0.4435    0.3456\n",
      "    0.0371    0.5565    0.3456\n",
      "    0.4629    0.5565    0.6544\n",
      "    0.9629    0.9435    0.1544\n",
      "    0.5371    0.9435    0.8456\n",
      "    0.0371    0.0565    0.8456\n",
      "    0.4629    0.0565    0.1544\n",
      "    0.7500    0.6847    0.5000\n",
      "    0.2500    0.3153    0.5000\n",
      "    0.7500    0.1847    0.0000\n",
      "    0.2500    0.8153    0.0000\n",
      "\"\"\"\n",
      "\n",
      "None\n"
     ]
    }
   ],
   "source": [
    "# まず、formatsをclassに変換した。成功。\n",
    "\n",
    "import sys\n",
    "from logging import getLogger, INFO, DEBUG\n",
    "logger = getLogger()\n",
    "logger.setLevel(INFO)\n",
    "\n",
    "from genice import genice as gi\n",
    "from genice.importer import safe_import\n",
    "\n",
    "# まず、formatterだけ新書式にしてみよう。\n",
    "lattice_maker = safe_import(\"lattice\", \"5\") \n",
    "formatter     = safe_import(\"format\", \"python\").Format()\n",
    "water         = safe_import(\"molecule\", \"4site\")\n",
    "guests        = None\n",
    "# 以下の構造はさいごに変更する。\n",
    "lat = gi.GenIce(lattice_maker)\n",
    "ice = lat.generate_ice(water, formatter=formatter)\n",
    "print(ice)"
   ]
  },
  {
   "cell_type": "code",
   "execution_count": null,
   "metadata": {},
   "outputs": [],
   "source": []
  }
 ],
 "metadata": {
  "kernelspec": {
   "display_name": "Python 3",
   "language": "python",
   "name": "python3"
  },
  "language_info": {
   "codemirror_mode": {
    "name": "ipython",
    "version": 3
   },
   "file_extension": ".py",
   "mimetype": "text/x-python",
   "name": "python",
   "nbconvert_exporter": "python",
   "pygments_lexer": "ipython3",
   "version": "3.7.3"
  }
 },
 "nbformat": 4,
 "nbformat_minor": 4
}
